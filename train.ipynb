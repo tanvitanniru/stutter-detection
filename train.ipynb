{
 "cells": [
  {
   "cell_type": "code",
   "execution_count": null,
   "metadata": {},
   "outputs": [],
   "source": [
    "\n",
    "\n",
    "class Train:\n",
    "    def __init__(self, stuttering_folder: str = \"dataset/train/stutter\", no_stuttering_folder: str = \"dataset/train/noStutter\"):\n",
    "        self.stuttering_folder = stuttering_folder\n",
    "        self.no_stuttering_folder = no_stuttering_folder\n",
    "        self.initial_training_model()\n",
    "\n",
    "    def initial_training_model(self):\n",
    "        audio_no_stutter = Files(self.no_stuttering_folder).files_audio()\n",
    "        print(audio_no_stutter)\n",
    "        audio_stutter = Files(self.stuttering_folder).files_audio()\n",
    "        list_concatenated_vector_get = []\n",
    "        labels = []\n",
    "        for i in range(0*int(len(audio_no_stutter)/7),1*int(len(audio_no_stutter)/7)):\n",
    "            print(audio_no_stutter[i])\n",
    "            concatenated_vector_get = Method(audio_no_stutter[i]).get_concatenated_vector_get()\n",
    "            list_concatenated_vector_get.append(concatenated_vector_get)\n",
    "            labels.append(0)\n",
    "        for i in range(0*int(len(audio_stutter)/7),1*int(len(audio_stutter)/7)):\n",
    "            print(audio_stutter[i])\n",
    "            concatenated_vector_get = Method(audio_stutter[i]).get_concatenated_vector_get()\n",
    "            list_concatenated_vector_get.append(concatenated_vector_get)\n",
    "            labels.append(1)\n",
    "        self.binary_classifier_training(list_concatenated_vector_get, labels)\n",
    "\n",
    "\n",
    "\n",
    "    def binary_classifier_training(self, ambidig_vectors, labels):\n",
    "        concatenated_vectors = np.concatenate(ambidig_vectors, axis=0)\n",
    "        concatenated_labels = np.repeat(labels, [v.shape[0] for v in ambidig_vectors], axis=0)\n",
    "        model = Sequential()\n",
    "        model.add(Dense(64, activation=relu, input_dim=769))\n",
    "        model.add(Dense(64, activation=relu))\n",
    "        model.add(Dense(64, activation=relu))\n",
    "        model.add(Dense(1, activation=sigmoid))\n",
    "\n",
    "        optimizer = Adam(learning_rate=0.001)\n",
    "        model.compile(optimizer=optimizer, loss='binary_crossentropy', metrics=['accuracy'])\n",
    "        model.fit(concatenated_vectors, concatenated_labels, epochs=10, batch_size=32)\n",
    "        model.save('classification_model.h5')\n",
    "        print('Model weights saved successfully.')\n"
   ]
  }
 ],
 "metadata": {
  "language_info": {
   "name": "python"
  }
 },
 "nbformat": 4,
 "nbformat_minor": 2
}
